{
 "cells": [
  {
   "cell_type": "code",
   "execution_count": null,
   "metadata": {},
   "outputs": [],
   "source": [
    "print(\"welcome to the tip calculator!\")\n",
    "bill=float(input(\"what was the total bill\"))\n",
    "tip=int(input(\"how much tip would you like to give? 10,12 or 15?\"))\n",
    "people= int(input(\"how many people will split the bill\"))\n",
    "\n",
    "tip_as_percent=tip/100\n",
    "total_tip_amount=bill*tip_as_percent\n",
    "total_bill=bill+total_tip_amount\n",
    "bill_per_person=total_bill/people\n",
    "final_amount=round(bill_per_person,2)\n",
    "\n",
    "print(f\"each person should pay:{final_amount}\")"
   ]
  }
 ],
 "metadata": {
  "language_info": {
   "name": "python"
  }
 },
 "nbformat": 4,
 "nbformat_minor": 2
}
